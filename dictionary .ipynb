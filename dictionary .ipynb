{
 "cells": [
  {
   "cell_type": "code",
   "execution_count": 1,
   "id": "468cdc3d-c37d-4937-a9b7-acc6d4610eeb",
   "metadata": {},
   "outputs": [
    {
     "data": {
      "text/plain": [
       "{'A': 1, 56: 21, 'B': 40}"
      ]
     },
     "execution_count": 1,
     "metadata": {},
     "output_type": "execute_result"
    }
   ],
   "source": [
    "a = {\n",
    "    'A':1,\n",
    "    56:21,\n",
    "    'B':40\n",
    "}\n",
    "a"
   ]
  },
  {
   "cell_type": "code",
   "execution_count": 9,
   "id": "4da4192f-7ab9-4a6b-a534-c337e898a581",
   "metadata": {},
   "outputs": [
    {
     "data": {
      "text/plain": [
       "{'A': 1, 56: 21, 'B': 50, 'Full Name': 'Prasanth Reddy'}"
      ]
     },
     "execution_count": 9,
     "metadata": {},
     "output_type": "execute_result"
    }
   ],
   "source": [
    "# dictionary does not allow duplicate keys but allows duplicate values\n",
    "a.update({'B':50})\n",
    "a.update({\"Full Name\":\"Prasanth Reddy\"})\n",
    "a"
   ]
  },
  {
   "cell_type": "code",
   "execution_count": 11,
   "id": "69040455-d5a5-42d3-8c5e-b1aa0188d225",
   "metadata": {},
   "outputs": [
    {
     "name": "stdout",
     "output_type": "stream",
     "text": [
      "dict_keys(['A', 56, 'B', 'Full Name'])\n",
      "dict_values([1, 21, 50, 'Prasanth Reddy'])\n",
      "dict_items([('A', 1), (56, 21), ('B', 50), ('Full Name', 'Prasanth Reddy')])\n"
     ]
    }
   ],
   "source": [
    "print(a.keys())\n",
    "print(a.values())\n",
    "print(a.items())"
   ]
  },
  {
   "cell_type": "code",
   "execution_count": 13,
   "id": "32c7c423-4e88-4a39-9f01-724ca40ec222",
   "metadata": {},
   "outputs": [
    {
     "name": "stdout",
     "output_type": "stream",
     "text": [
      "1\n",
      "21\n"
     ]
    }
   ],
   "source": [
    "# we have two ways to know the value of a key\n",
    "# where one method is get fuction\n",
    "print(a.get('A'))\n",
    "# another method is this method\n",
    "print(a[56])"
   ]
  },
  {
   "cell_type": "code",
   "execution_count": 15,
   "id": "bbfca263-b235-4755-b375-70f55c0b7f1b",
   "metadata": {},
   "outputs": [
    {
     "data": {
      "text/plain": [
       "{'A': 1, 'B': 50, 'Full Name': 'Prasanth Reddy'}"
      ]
     },
     "execution_count": 15,
     "metadata": {},
     "output_type": "execute_result"
    }
   ],
   "source": [
    "# to delete a key value pair from dictionary we use delete function\n",
    "del a[56]\n",
    "a"
   ]
  },
  {
   "cell_type": "code",
   "execution_count": 19,
   "id": "eda1092f-3c79-4b36-9d67-f53f3fb85ec7",
   "metadata": {},
   "outputs": [
    {
     "name": "stdout",
     "output_type": "stream",
     "text": [
      "{'A': 1, 'B': 50, 'Full Name': 'Prasanth Reddy', 'Hey': [100, 200, 300, 400, 500]}\n",
      "<class 'int'>\n",
      "<class 'list'>\n",
      "[100, 200, 300, 400, 500]\n"
     ]
    }
   ],
   "source": [
    "a.update({\"Hey\":[100,200,300,400,500]})\n",
    "print(a)\n",
    "print(type(a['A']))\n",
    "print(type(a['Hey']))\n",
    "print(a.get(\"Hey\"))"
   ]
  },
  {
   "cell_type": "code",
   "execution_count": 21,
   "id": "5af3b7cf-381f-4bfc-a96c-6f4a75ff11f7",
   "metadata": {},
   "outputs": [
    {
     "data": {
      "text/plain": [
       "'HELLO'"
      ]
     },
     "execution_count": 21,
     "metadata": {},
     "output_type": "execute_result"
    }
   ],
   "source": [
    "b = \"Hello\"\n",
    "b.upper()"
   ]
  },
  {
   "cell_type": "code",
   "execution_count": 27,
   "id": "d2469a6e-8840-49e8-a6a0-92f07ace626f",
   "metadata": {},
   "outputs": [
    {
     "name": "stdout",
     "output_type": "stream",
     "text": [
      "True\n",
      "['156']\n"
     ]
    }
   ],
   "source": [
    "b= '156'\n",
    "print(b.isdigit())\n",
    "print(b.split())"
   ]
  },
  {
   "cell_type": "code",
   "execution_count": 29,
   "id": "5dd8b8ec-d12d-4a1f-9a38-b8efc7242fca",
   "metadata": {},
   "outputs": [
    {
     "name": "stdout",
     "output_type": "stream",
     "text": [
      "156\n",
      "{'A': 1, 'B': 50, 'Full Name': 'Prasanth Reddy', 'Hey': [100, 200, 300, 400, 500]}\n"
     ]
    }
   ],
   "source": [
    "print(b)\n",
    "print(a)"
   ]
  },
  {
   "cell_type": "code",
   "execution_count": 31,
   "id": "0c210bc4-7163-426b-9386-5707722420e8",
   "metadata": {},
   "outputs": [
    {
     "data": {
      "text/plain": [
       "2"
      ]
     },
     "execution_count": 31,
     "metadata": {},
     "output_type": "execute_result"
    }
   ],
   "source": [
    "a[\"Full Name\"].count('a')"
   ]
  },
  {
   "cell_type": "code",
   "execution_count": 33,
   "id": "b581a7ad-4949-4c9d-9628-df97a2c56768",
   "metadata": {},
   "outputs": [
    {
     "data": {
      "text/plain": [
       "'prasanth reddy'"
      ]
     },
     "execution_count": 33,
     "metadata": {},
     "output_type": "execute_result"
    }
   ],
   "source": [
    "a[\"Full Name\"].lower() # this method is just a temporary function which will change it to lower but does not show in output"
   ]
  },
  {
   "cell_type": "code",
   "execution_count": 35,
   "id": "1151e31e-9d3e-4bb7-bf2a-5782a5933b9c",
   "metadata": {},
   "outputs": [
    {
     "data": {
      "text/plain": [
       "'Prasanth Reddy'"
      ]
     },
     "execution_count": 35,
     "metadata": {},
     "output_type": "execute_result"
    }
   ],
   "source": [
    "a.get(\"Full Name\")"
   ]
  },
  {
   "cell_type": "code",
   "execution_count": 37,
   "id": "6ecf8e60-61d5-48ba-8165-78aeb50497f6",
   "metadata": {},
   "outputs": [
    {
     "data": {
      "text/plain": [
       "{'A': 1,\n",
       " 'B': 50,\n",
       " 'Full Name': 'PRASANTH REDDY',\n",
       " 'Hey': [100, 200, 300, 400, 500]}"
      ]
     },
     "execution_count": 37,
     "metadata": {},
     "output_type": "execute_result"
    }
   ],
   "source": [
    "a[\"Full Name\"]=a[\"Full Name\"].upper() # therefore we have to assing it to a key so that it will save the value\n",
    "a"
   ]
  },
  {
   "cell_type": "code",
   "execution_count": 39,
   "id": "9a9c6f21-d6e6-450e-acea-1e3b439b5b7f",
   "metadata": {},
   "outputs": [
    {
     "data": {
      "text/plain": [
       "{'A': 1,\n",
       " 'B': 50,\n",
       " 'Full Name': 'PRASANTH REDDY',\n",
       " 'Hey': [100, 200, 300, 400, 500, 'List'],\n",
       " 'C': 56,\n",
       " 28: (15, 25, 35, 45, 55, 'Tuple', 'yes')}"
      ]
     },
     "execution_count": 39,
     "metadata": {},
     "output_type": "execute_result"
    }
   ],
   "source": [
    "a.update({'C':56,28:\"hello\"})\n",
    "a.update({28:(15,25,35,45,55,'Tuple','yes')})\n",
    "a.update({\"Hey\":[100,200,300,400,500,\"List\"]})\n",
    "a"
   ]
  },
  {
   "cell_type": "code",
   "execution_count": 41,
   "id": "7fa237db-3c5c-4862-8204-ebb22b629f35",
   "metadata": {},
   "outputs": [
    {
     "data": {
      "text/plain": [
       "'List'"
      ]
     },
     "execution_count": 41,
     "metadata": {},
     "output_type": "execute_result"
    }
   ],
   "source": [
    "a.get(\"Hey\")\n",
    "a['Hey'][5]"
   ]
  },
  {
   "cell_type": "code",
   "execution_count": 44,
   "id": "b4cd2fdd-6289-43d5-aad9-51593e953be5",
   "metadata": {},
   "outputs": [
    {
     "data": {
      "text/plain": [
       "'t'"
      ]
     },
     "execution_count": 44,
     "metadata": {},
     "output_type": "execute_result"
    }
   ],
   "source": [
    "a['Hey'][5][3]"
   ]
  },
  {
   "cell_type": "code",
   "execution_count": 46,
   "id": "4d6a4e22-bef3-44ad-af59-6f72aab186bd",
   "metadata": {},
   "outputs": [
    {
     "data": {
      "text/plain": [
       "{'A': 1,\n",
       " 'B': 50,\n",
       " 'Full Name': 'PRASANTH REDDY',\n",
       " 'Hey': [100, 200, 300, 400, 500, 'List'],\n",
       " 'C': 56,\n",
       " 28: (15, 25, 35, 45, 55, 'Tuple', 'yes')}"
      ]
     },
     "execution_count": 46,
     "metadata": {},
     "output_type": "execute_result"
    }
   ],
   "source": [
    "a"
   ]
  },
  {
   "cell_type": "code",
   "execution_count": null,
   "id": "9b1ffd5f-778c-47c9-adf4-e1e9358fec90",
   "metadata": {},
   "outputs": [],
   "source": []
  }
 ],
 "metadata": {
  "kernelspec": {
   "display_name": "Python [conda env:base] *",
   "language": "python",
   "name": "conda-base-py"
  },
  "language_info": {
   "codemirror_mode": {
    "name": "ipython",
    "version": 3
   },
   "file_extension": ".py",
   "mimetype": "text/x-python",
   "name": "python",
   "nbconvert_exporter": "python",
   "pygments_lexer": "ipython3",
   "version": "3.12.7"
  }
 },
 "nbformat": 4,
 "nbformat_minor": 5
}
