{
 "cells": [
  {
   "cell_type": "code",
   "execution_count": 60,
   "id": "ebee332c-c901-453e-9ff2-97cb13e7cb8c",
   "metadata": {},
   "outputs": [],
   "source": [
    "A = [123,456,789,\"Hello\",\"Prasanth reddy\"]\n",
    "B = (147,258,369,\"Hey\",\"Manda\")\n",
    "c = {\"Name\" : \"Prasanth reddy\",\n",
    "    \"Greet\" : \"Hey\",\n",
    "    \"Time\" : 2,\n",
    "     \"Date\" : 19\n",
    "}"
   ]
  },
  {
   "cell_type": "code",
   "execution_count": 62,
   "id": "6baafaf4-2142-4e85-b1f9-de2799a3144a",
   "metadata": {},
   "outputs": [
    {
     "name": "stdout",
     "output_type": "stream",
     "text": [
      "Hello\n",
      "[789, 'Hello', 'Prasanth reddy']\n",
      "[123, 789]\n"
     ]
    }
   ],
   "source": [
    "# Accessing elements from List\n",
    "print(A[3])\n",
    "print(A[2:])\n",
    "print(A[0:3:2])"
   ]
  },
  {
   "cell_type": "code",
   "execution_count": 64,
   "id": "c0560e86-c3ce-4544-9463-bbfbb5612600",
   "metadata": {},
   "outputs": [
    {
     "name": "stdout",
     "output_type": "stream",
     "text": [
      "Hey\n",
      "(369, 'Hey', 'Manda')\n",
      "(147, 369)\n"
     ]
    }
   ],
   "source": [
    "# Accessing elemsts form Tuple\n",
    "print(B[3])\n",
    "print(B[2:])\n",
    "print(B[0:3:2])"
   ]
  },
  {
   "cell_type": "code",
   "execution_count": 66,
   "id": "ea9a8569-9dad-44a6-bcf0-cb66f3636c41",
   "metadata": {},
   "outputs": [
    {
     "name": "stdout",
     "output_type": "stream",
     "text": [
      "Hey\n",
      "Prasanth reddy\n",
      "rasanth reddy\n",
      "2\n",
      "n\n"
     ]
    }
   ],
   "source": [
    "# Accessing elements from Dictionary\n",
    "print(c[\"Greet\"])\n",
    "print(c[\"Name\"])\n",
    "print(c[\"Name\"][1:])\n",
    "print(c[\"Time\"])\n",
    "print(c[\"Name\"][5])"
   ]
  },
  {
   "cell_type": "code",
   "execution_count": null,
   "id": "8f9e1c07-2cce-4bb7-a4c5-79aa6730ded9",
   "metadata": {},
   "outputs": [],
   "source": []
  }
 ],
 "metadata": {
  "kernelspec": {
   "display_name": "Python [conda env:base] *",
   "language": "python",
   "name": "conda-base-py"
  },
  "language_info": {
   "codemirror_mode": {
    "name": "ipython",
    "version": 3
   },
   "file_extension": ".py",
   "mimetype": "text/x-python",
   "name": "python",
   "nbconvert_exporter": "python",
   "pygments_lexer": "ipython3",
   "version": "3.12.7"
  }
 },
 "nbformat": 4,
 "nbformat_minor": 5
}
