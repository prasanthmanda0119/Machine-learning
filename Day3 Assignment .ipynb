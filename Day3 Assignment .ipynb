{
 "cells": [
  {
   "cell_type": "code",
   "execution_count": 68,
   "id": "2fa6dba7-7ae1-4064-9223-d27014a2b64e",
   "metadata": {},
   "outputs": [
    {
     "name": "stdin",
     "output_type": "stream",
     "text": [
      " 56.5\n",
      " 85.5\n",
      " 75\n"
     ]
    },
    {
     "name": "stdout",
     "output_type": "stream",
     "text": [
      "72.33333333333333\n",
      "Grade:C\n"
     ]
    }
   ],
   "source": [
    "Maths = float(input())\n",
    "Physics = float(input())\n",
    "Chemistry = float(input())\n",
    "average = (Maths + Physics + Chemistry)/3\n",
    "print(average)\n",
    "if average >= 90:\n",
    "    print(\"Grade:A\")\n",
    "elif (average >= 80 and average <= 89):\n",
    "    print(\"Grade:B\")\n",
    "elif (average >= 70 and average <=79):\n",
    "    print(\"Grade:C\")\n",
    "else:\n",
    "    print(\"Grade:Fail\")"
   ]
  },
  {
   "cell_type": "code",
   "execution_count": null,
   "id": "95276a42-c119-4329-9c54-a3ef9c3de287",
   "metadata": {},
   "outputs": [],
   "source": []
  }
 ],
 "metadata": {
  "kernelspec": {
   "display_name": "Python [conda env:base] *",
   "language": "python",
   "name": "conda-base-py"
  },
  "language_info": {
   "codemirror_mode": {
    "name": "ipython",
    "version": 3
   },
   "file_extension": ".py",
   "mimetype": "text/x-python",
   "name": "python",
   "nbconvert_exporter": "python",
   "pygments_lexer": "ipython3",
   "version": "3.12.7"
  }
 },
 "nbformat": 4,
 "nbformat_minor": 5
}
