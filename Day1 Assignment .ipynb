{
 "cells": [
  {
   "cell_type": "code",
   "execution_count": 50,
   "id": "ebee332c-c901-453e-9ff2-97cb13e7cb8c",
   "metadata": {},
   "outputs": [
    {
     "name": "stdout",
     "output_type": "stream",
     "text": [
      "67\n",
      "67  is  <class 'int'>\n",
      "32.56\n",
      "32.56  is  <class 'float'>\n",
      "Prasanth\n",
      "Prasanth  is  <class 'str'>\n",
      "True\n",
      "True  is  <class 'bool'>\n"
     ]
    }
   ],
   "source": [
    "a=67\n",
    "print(a)\n",
    "print(a,\" is \",type(a))\n",
    "\n",
    "b=32.56\n",
    "print(b)\n",
    "print(b,\" is \",type(b))\n",
    "\n",
    "c=\"Prasanth\"\n",
    "print(c)\n",
    "print(c,\" is \",type(c))\n",
    "\n",
    "d=True\n",
    "print(d)\n",
    "print(d,\" is \",type(d))"
   ]
  },
  {
   "cell_type": "code",
   "execution_count": null,
   "id": "6baafaf4-2142-4e85-b1f9-de2799a3144a",
   "metadata": {},
   "outputs": [],
   "source": []
  }
 ],
 "metadata": {
  "kernelspec": {
   "display_name": "Python [conda env:base] *",
   "language": "python",
   "name": "conda-base-py"
  },
  "language_info": {
   "codemirror_mode": {
    "name": "ipython",
    "version": 3
   },
   "file_extension": ".py",
   "mimetype": "text/x-python",
   "name": "python",
   "nbconvert_exporter": "python",
   "pygments_lexer": "ipython3",
   "version": "3.12.7"
  }
 },
 "nbformat": 4,
 "nbformat_minor": 5
}
